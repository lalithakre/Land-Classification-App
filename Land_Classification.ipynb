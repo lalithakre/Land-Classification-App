{
  "cells": [
    {
      "cell_type": "markdown",
      "metadata": {
        "id": "view-in-github",
        "colab_type": "text"
      },
      "source": [
        "<a href=\"https://colab.research.google.com/github/lalithakre/Land-Classification-App/blob/master/Land_Classification.ipynb\" target=\"_parent\"><img src=\"https://colab.research.google.com/assets/colab-badge.svg\" alt=\"Open In Colab\"/></a>"
      ]
    },
    {
      "cell_type": "code",
      "execution_count": null,
      "metadata": {
        "id": "jM759aSBBk3o"
      },
      "outputs": [],
      "source": [
        "# Land Classification ML model"
      ]
    },
    {
      "cell_type": "code",
      "execution_count": null,
      "metadata": {
        "id": "aDz4IlLUBp4b"
      },
      "outputs": [],
      "source": [
        "# import numpy as np"
      ]
    },
    {
      "cell_type": "code",
      "execution_count": null,
      "metadata": {
        "id": "-eFlz_OkBvrY"
      },
      "outputs": [],
      "source": [
        "import pandas as pd"
      ]
    },
    {
      "cell_type": "code",
      "execution_count": null,
      "metadata": {
        "id": "dEjDY3cwBxgK"
      },
      "outputs": [],
      "source": [
        "import matplotlib.pyplot as plt"
      ]
    },
    {
      "cell_type": "code",
      "execution_count": null,
      "metadata": {
        "id": "rx03iKSZC1Cf"
      },
      "outputs": [],
      "source": [
        "import cv2"
      ]
    },
    {
      "cell_type": "code",
      "execution_count": null,
      "metadata": {
        "id": "naRS4NulB1sw"
      },
      "outputs": [],
      "source": [
        "import tensorflow as tf\n",
        "from tensorflow import keras\n",
        "from keras import Sequential\n",
        "from keras.layers import Dense,Conv2D,MaxPooling2D,Flatten,Dropout,BatchNormalization"
      ]
    },
    {
      "cell_type": "code",
      "execution_count": null,
      "metadata": {
        "id": "nEaYePH7ICAO"
      },
      "outputs": [],
      "source": [
        "from google.colab import drive\n",
        "drive.mount('/content/drive')"
      ]
    },
    {
      "cell_type": "code",
      "execution_count": null,
      "metadata": {
        "id": "XATEqESUImuH"
      },
      "outputs": [],
      "source": [
        "path='/content/drive/MyDrive/LandClassification'"
      ]
    },
    {
      "cell_type": "code",
      "source": [
        "import os"
      ],
      "metadata": {
        "id": "tztIJ1FBWjS-"
      },
      "execution_count": null,
      "outputs": []
    },
    {
      "cell_type": "code",
      "execution_count": null,
      "metadata": {
        "id": "aZZrCNPiE_E_"
      },
      "outputs": [],
      "source": [
        "folders=os.listdir(path)"
      ]
    },
    {
      "cell_type": "code",
      "source": [
        "folders"
      ],
      "metadata": {
        "id": "T42HQmpbWuJd"
      },
      "execution_count": null,
      "outputs": []
    },
    {
      "cell_type": "code",
      "execution_count": null,
      "metadata": {
        "id": "DRiL16p5CdIt"
      },
      "outputs": [],
      "source": [
        "x=[]\n",
        "y=[]\n"
      ]
    },
    {
      "cell_type": "code",
      "source": [
        "for I in folders:\n",
        "  for J in os.listdir(path+'/'+I):\n",
        "    # print(i)\n",
        "    # print(j)\n",
        "    a=J.split('.')\n",
        "    if(a[1]=='jpg'):\n",
        "      p=cv2.imread(path+'/'+I+'/'+J)\n",
        "      r=cv2.resize(p,(256,256))\n",
        "      x.append(r)\n",
        "      y.append(I)\n"
      ],
      "metadata": {
        "id": "MQ_09pgxW29n"
      },
      "execution_count": null,
      "outputs": []
    },
    {
      "cell_type": "code",
      "source": [
        "# print(x)\n",
        "print(y)"
      ],
      "metadata": {
        "id": "OSMEiC7vuaAz"
      },
      "execution_count": null,
      "outputs": []
    },
    {
      "cell_type": "code",
      "source": [
        "for i in range(len(y)):\n",
        "  if(y[i]=='AnnualCrop'):\n",
        "    y[i]=0\n",
        "  elif(y[i]=='Forest'):\n",
        "    y[i]=1\n",
        "  elif(y[i]=='HerbaceousVegetation'):\n",
        "    y[i]=2\n",
        "  elif(y[i]=='Highway'):\n",
        "    y[i]=3\n",
        "  elif(y[i]=='Industrial'):\n",
        "    y[i]=4\n",
        "  elif(y[i]=='Pasture'):\n",
        "    y[i]=5\n",
        "  elif(y[i]=='PermanentCrop'):\n",
        "    y[i]=6\n",
        "  elif(y[i]=='Residential'):\n",
        "    y[i]=7\n",
        "  elif(y[i]=='River'):\n",
        "    y[i]=8\n",
        "  elif(y[i]=='SeaLake'):\n",
        "    y[i]=9"
      ],
      "metadata": {
        "id": "5_c3RsfgW55N"
      },
      "execution_count": null,
      "outputs": []
    },
    {
      "cell_type": "code",
      "source": [
        "y"
      ],
      "metadata": {
        "id": "hXauL4oqAazJ"
      },
      "execution_count": null,
      "outputs": []
    },
    {
      "cell_type": "code",
      "source": [
        "import numpy as np\n",
        "xarr=np.array(x)\n",
        "yarr=np.array(y)\n",
        "xarr=xarr/255.0"
      ],
      "metadata": {
        "id": "QXzZp9yCW8xE"
      },
      "execution_count": null,
      "outputs": []
    },
    {
      "cell_type": "code",
      "source": [
        "yarr"
      ],
      "metadata": {
        "id": "9svRl9NNa9bh"
      },
      "execution_count": null,
      "outputs": []
    },
    {
      "cell_type": "code",
      "source": [
        "xarr"
      ],
      "metadata": {
        "id": "VhIUIPU8a7he"
      },
      "execution_count": null,
      "outputs": []
    },
    {
      "cell_type": "code",
      "execution_count": null,
      "metadata": {
        "id": "dCIJoD5wCg8N"
      },
      "outputs": [],
      "source": [
        "model=Sequential()\n",
        "model.add(Conv2D(32,kernel_size=(3,3),padding='valid',activation='relu',input_shape=(256,256,3)))\n",
        "model.add(BatchNormalization())\n",
        "model.add(MaxPooling2D(pool_size=(2,2),strides=2,padding='valid'))\n",
        "model.add(Conv2D(64,kernel_size=(3,3),padding='valid',activation='relu'))\n",
        "model.add(BatchNormalization())\n",
        "model.add(MaxPooling2D(pool_size=(2,2),strides=2,padding='valid'))\n",
        "model.add(Conv2D(128,kernel_size=(3,3),padding='valid',activation='relu'))\n",
        "model.add(BatchNormalization())\n",
        "model.add(MaxPooling2D(pool_size=(2,2),strides=2,padding='valid'))\n",
        "model.add(Flatten())\n",
        "model.add(Dense(128,activation='relu'))\n",
        "model.add(Dropout(0.1))\n",
        "model.add(Dense(128,activation='relu'))\n",
        "model.add(Dropout(0.1))\n",
        "model.add(Dense(1,activation='sigmoid'))"
      ]
    },
    {
      "cell_type": "code",
      "execution_count": null,
      "metadata": {
        "id": "xKGX1XpBCljX"
      },
      "outputs": [],
      "source": [
        "model.summary()"
      ]
    },
    {
      "cell_type": "code",
      "execution_count": null,
      "metadata": {
        "id": "Zt4Mf4fvCoV2"
      },
      "outputs": [],
      "source": [
        "model.compile(optimizer='adam',loss='binary_crossentropy',metrics=['accuracy'])"
      ]
    },
    {
      "cell_type": "code",
      "execution_count": null,
      "metadata": {
        "id": "mpb6-5FUCrBW"
      },
      "outputs": [],
      "source": [
        "history=model.fit(xarr,yarr,epochs=50)"
      ]
    },
    {
      "cell_type": "code",
      "source": [
        "xarr[1]"
      ],
      "metadata": {
        "id": "HG2zxqTMEYUz"
      },
      "execution_count": null,
      "outputs": []
    },
    {
      "cell_type": "code",
      "execution_count": null,
      "metadata": {
        "id": "UiHnH_GBCxq3"
      },
      "outputs": [],
      "source": [
        "test=cv2.resize(xarr[1],(256,256))"
      ]
    },
    {
      "cell_type": "code",
      "execution_count": null,
      "metadata": {
        "id": "Dn5P3a1ZC9pJ"
      },
      "outputs": [],
      "source": [
        "test1=test.reshape((1,256,256,3))"
      ]
    },
    {
      "cell_type": "code",
      "execution_count": null,
      "metadata": {
        "id": "5kQJtJlbC_mN"
      },
      "outputs": [],
      "source": [
        "model.predict(test1)"
      ]
    },
    {
      "cell_type": "code",
      "execution_count": null,
      "metadata": {
        "id": "e8RChmEUDCLA"
      },
      "outputs": [],
      "source": [
        "yarr[1]"
      ]
    },
    {
      "cell_type": "code",
      "source": [],
      "metadata": {
        "id": "PrxujUH8FChl"
      },
      "execution_count": null,
      "outputs": []
    }
  ],
  "metadata": {
    "accelerator": "GPU",
    "colab": {
      "provenance": [],
      "private_outputs": true,
      "mount_file_id": "1yTcKEtMkwqZb7ZE-xodMOIEf8hO8qRPV",
      "authorship_tag": "ABX9TyOJBwdTYunOvSNbB/sOGMBQ",
      "include_colab_link": true
    },
    "gpuClass": "standard",
    "kernelspec": {
      "display_name": "Python 3",
      "name": "python3"
    },
    "language_info": {
      "name": "python"
    }
  },
  "nbformat": 4,
  "nbformat_minor": 0
}