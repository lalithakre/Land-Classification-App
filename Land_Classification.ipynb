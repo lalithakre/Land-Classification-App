{
  "cells": [
    {
      "cell_type": "markdown",
      "metadata": {
        "id": "view-in-github",
        "colab_type": "text"
      },
      "source": [
        "<a href=\"https://colab.research.google.com/github/lalithakre/Land-Classification-App/blob/master/Land_Classification.ipynb\" target=\"_parent\"><img src=\"https://colab.research.google.com/assets/colab-badge.svg\" alt=\"Open In Colab\"/></a>"
      ]
    },
    {
      "cell_type": "code",
      "execution_count": null,
      "metadata": {
        "id": "dEjDY3cwBxgK"
      },
      "outputs": [],
      "source": [
        "import pandas as pd\n",
        "import matplotlib.pyplot as plt\n",
        "import cv2"
      ]
    },
    {
      "cell_type": "code",
      "execution_count": null,
      "metadata": {
        "id": "naRS4NulB1sw"
      },
      "outputs": [],
      "source": [
        "import tensorflow as tf\n",
        "from tensorflow import keras\n",
        "from keras import Sequential\n",
        "from keras.layers import Dense,Conv2D,MaxPooling2D,Flatten,Dropout,BatchNormalization"
      ]
    },
    {
      "cell_type": "code",
      "execution_count": null,
      "metadata": {
        "id": "nEaYePH7ICAO"
      },
      "outputs": [],
      "source": [
        "from google.colab import drive\n",
        "drive.mount('/content/drive')"
      ]
    },
    {
      "cell_type": "code",
      "execution_count": null,
      "metadata": {
        "id": "XATEqESUImuH"
      },
      "outputs": [],
      "source": [
        "path='/content/drive/MyDrive/LandClassification'"
      ]
    },
    {
      "cell_type": "code",
      "source": [
        "import os"
      ],
      "metadata": {
        "id": "tztIJ1FBWjS-"
      },
      "execution_count": null,
      "outputs": []
    },
    {
      "cell_type": "code",
      "execution_count": null,
      "metadata": {
        "id": "aZZrCNPiE_E_"
      },
      "outputs": [],
      "source": [
        "folders=os.listdir(path)"
      ]
    },
    {
      "cell_type": "code",
      "source": [
        "folders"
      ],
      "metadata": {
        "id": "T42HQmpbWuJd"
      },
      "execution_count": null,
      "outputs": []
    },
    {
      "cell_type": "code",
      "execution_count": null,
      "metadata": {
        "id": "DRiL16p5CdIt"
      },
      "outputs": [],
      "source": [
        "x=[]\n",
        "y=[]\n"
      ]
    },
    {
      "cell_type": "code",
      "source": [
        "for I in folders:\n",
        "  for J in os.listdir(path+'/'+I):\n",
        "    a=J.split('.')\n",
        "    if(a[1]=='jpg'):\n",
        "      p=cv2.imread(path+'/'+I+'/'+J)\n",
        "      r=cv2.resize(p,(224,224))\n",
        "      x.append(r)\n",
        "      y.append(I)\n"
      ],
      "metadata": {
        "id": "MQ_09pgxW29n"
      },
      "execution_count": null,
      "outputs": []
    },
    {
      "cell_type": "code",
      "source": [
        "# print(x)\n",
        "print(y)"
      ],
      "metadata": {
        "id": "OSMEiC7vuaAz"
      },
      "execution_count": null,
      "outputs": []
    },
    {
      "cell_type": "code",
      "source": [
        "for i in range(len(y)):\n",
        "  if(y[i]=='AnnualCrop'):\n",
        "    y[i]=0\n",
        "  elif(y[i]=='Forest'):\n",
        "    y[i]=1\n",
        "  elif(y[i]=='HerbaceousVegetation'):\n",
        "    y[i]=2\n",
        "  elif(y[i]=='Highway'):\n",
        "    y[i]=3\n",
        "  elif(y[i]=='Industrial'):\n",
        "    y[i]=4\n",
        "  elif(y[i]=='Pasture'):\n",
        "    y[i]=5\n",
        "  elif(y[i]=='PermanentCrop'):\n",
        "    y[i]=6\n",
        "  elif(y[i]=='Residential'):\n",
        "    y[i]=7\n",
        "  elif(y[i]=='River'):\n",
        "    y[i]=8\n",
        "  elif(y[i]=='SeaLake'):\n",
        "    y[i]=9"
      ],
      "metadata": {
        "id": "5_c3RsfgW55N"
      },
      "execution_count": null,
      "outputs": []
    },
    {
      "cell_type": "code",
      "source": [
        "# xarr.shape"
      ],
      "metadata": {
        "id": "NMQwwwakXg5b"
      },
      "execution_count": null,
      "outputs": []
    },
    {
      "cell_type": "code",
      "source": [
        "import numpy as np\n",
        "xarr=np.array(x)\n",
        "yarr=np.array(y)\n",
        "xarr=xarr/255.0"
      ],
      "metadata": {
        "id": "QXzZp9yCW8xE"
      },
      "execution_count": null,
      "outputs": []
    },
    {
      "cell_type": "code",
      "source": [
        "yarr.shape"
      ],
      "metadata": {
        "id": "0k9Dk7j7FznH"
      },
      "execution_count": null,
      "outputs": []
    },
    {
      "cell_type": "code",
      "source": [
        "xarr.shape"
      ],
      "metadata": {
        "id": "OO1TaMyrFml_"
      },
      "execution_count": null,
      "outputs": []
    },
    {
      "cell_type": "code",
      "source": [
        "yarr"
      ],
      "metadata": {
        "id": "tlERItIcokw6"
      },
      "execution_count": null,
      "outputs": []
    },
    {
      "cell_type": "code",
      "source": [
        "from tensorflow.keras.applications.resnet50 import ResNet50, preprocess_input\n",
        "ob=ResNet50(input_shape=(224,224,3),weights='imagenet',include_top=False)"
      ],
      "metadata": {
        "id": "lBts0D2dqfxP"
      },
      "execution_count": null,
      "outputs": []
    },
    {
      "cell_type": "code",
      "source": [
        "ob.trainable=False"
      ],
      "metadata": {
        "id": "Fr50jQ5uqrOr"
      },
      "execution_count": null,
      "outputs": []
    },
    {
      "cell_type": "code",
      "execution_count": null,
      "metadata": {
        "id": "dCIJoD5wCg8N"
      },
      "outputs": [],
      "source": [
        "model = Sequential()\n",
        "model.add(ob)\n",
        "model.add(Flatten())\n",
        "model.add(BatchNormalization())\n",
        "model.add(Dense(256,activation='relu'))\n",
        "model.add(Dropout(0.2))\n",
        "model.add(BatchNormalization())\n",
        "model.add(Dense(256,activation='relu'))\n",
        "model.add(Dropout(0.2))\n",
        "model.add(BatchNormalization())\n",
        "model.add(Dense(256,activation='relu'))\n",
        "model.add(Dropout(0.2))\n",
        "model.add(BatchNormalization())\n",
        "model.add(Dense(10,activation='softmax'))\n",
        "model.compile(optimizer='adam', loss='sparse_categorical_crossentropy', metrics=['accuracy'])\n",
        "# model.summary()"
      ]
    },
    {
      "cell_type": "code",
      "source": [
        "model.fit(xarr,yarr,epochs=10,batch_size=150)"
      ],
      "metadata": {
        "id": "9FOzfAkt5SC5"
      },
      "execution_count": null,
      "outputs": []
    },
    {
      "cell_type": "code",
      "source": [
        "plt.imshow(xarr[1])"
      ],
      "metadata": {
        "id": "b-SpSG_eJK_j"
      },
      "execution_count": null,
      "outputs": []
    },
    {
      "cell_type": "code",
      "source": [
        "yarr[1]"
      ],
      "metadata": {
        "id": "mrPSB9p5L141"
      },
      "execution_count": null,
      "outputs": []
    },
    {
      "cell_type": "code",
      "source": [
        "y=[]\n",
        "y.append(xarr[1])\n",
        "s=np.array(y)\n",
        "prediction1=model.predict(s)\n",
        "prediction1"
      ],
      "metadata": {
        "id": "nwOpnvaAKNc2"
      },
      "execution_count": null,
      "outputs": []
    },
    {
      "cell_type": "code",
      "source": [
        "prediction1 = np.argmax(prediction1, axis = 1)\n",
        "prediction1"
      ],
      "metadata": {
        "id": "XxMwTN1Fr-hy"
      },
      "execution_count": null,
      "outputs": []
    },
    {
      "cell_type": "code",
      "source": [
        "yarr[1]"
      ],
      "metadata": {
        "id": "3S20XKNgLALu"
      },
      "execution_count": null,
      "outputs": []
    },
    {
      "cell_type": "code",
      "source": [
        "x=[]\n",
        "x.append(xarr[210])\n",
        "r=np.array(x)"
      ],
      "metadata": {
        "id": "373D4dNlO_nq"
      },
      "execution_count": null,
      "outputs": []
    },
    {
      "cell_type": "code",
      "execution_count": null,
      "metadata": {
        "id": "5kQJtJlbC_mN"
      },
      "outputs": [],
      "source": [
        "prediction=model.predict(r)\n",
        "prediction"
      ]
    },
    {
      "cell_type": "code",
      "source": [
        "prediction = np.argmax(prediction, axis = 1)\n",
        "prediction"
      ],
      "metadata": {
        "id": "9wsG-Bybmtfz"
      },
      "execution_count": null,
      "outputs": []
    },
    {
      "cell_type": "code",
      "execution_count": null,
      "metadata": {
        "id": "e8RChmEUDCLA"
      },
      "outputs": [],
      "source": [
        "yarr[210]"
      ]
    },
    {
      "cell_type": "code",
      "source": [
        "y[55]"
      ],
      "metadata": {
        "id": "Pfz690ZYnVne"
      },
      "execution_count": null,
      "outputs": []
    },
    {
      "cell_type": "code",
      "source": [
        "x[76]"
      ],
      "metadata": {
        "id": "mQjyOtT0Objd"
      },
      "execution_count": null,
      "outputs": []
    },
    {
      "cell_type": "code",
      "source": [
        "# model.save('model.h5')"
      ],
      "metadata": {
        "id": "DSsEacf3OmHd"
      },
      "execution_count": null,
      "outputs": []
    }
  ],
  "metadata": {
    "accelerator": "GPU",
    "colab": {
      "provenance": [],
      "private_outputs": true,
      "mount_file_id": "1yTcKEtMkwqZb7ZE-xodMOIEf8hO8qRPV",
      "authorship_tag": "ABX9TyPbOc3wDNZZ5HwDV+g00a5+",
      "include_colab_link": true
    },
    "gpuClass": "standard",
    "kernelspec": {
      "display_name": "Python 3",
      "name": "python3"
    },
    "language_info": {
      "name": "python"
    }
  },
  "nbformat": 4,
  "nbformat_minor": 0
}