{
  "cells": [
    {
      "cell_type": "markdown",
      "metadata": {
        "id": "view-in-github",
        "colab_type": "text"
      },
      "source": [
        "<a href=\"https://colab.research.google.com/github/lalithakre/Land-Classification-App/blob/master/Land_Classification.ipynb\" target=\"_parent\"><img src=\"https://colab.research.google.com/assets/colab-badge.svg\" alt=\"Open In Colab\"/></a>"
      ]
    },
    {
      "cell_type": "code",
      "execution_count": null,
      "metadata": {
        "id": "jM759aSBBk3o"
      },
      "outputs": [],
      "source": [
        "# Land Classification ML model"
      ]
    },
    {
      "cell_type": "code",
      "execution_count": null,
      "metadata": {
        "id": "aDz4IlLUBp4b"
      },
      "outputs": [],
      "source": [
        "# import numpy as np"
      ]
    },
    {
      "cell_type": "code",
      "execution_count": null,
      "metadata": {
        "id": "-eFlz_OkBvrY"
      },
      "outputs": [],
      "source": [
        "import pandas as pd"
      ]
    },
    {
      "cell_type": "code",
      "execution_count": null,
      "metadata": {
        "id": "dEjDY3cwBxgK"
      },
      "outputs": [],
      "source": [
        "import matplotlib.pyplot as plt"
      ]
    },
    {
      "cell_type": "code",
      "execution_count": null,
      "metadata": {
        "id": "rx03iKSZC1Cf"
      },
      "outputs": [],
      "source": [
        "import cv2"
      ]
    },
    {
      "cell_type": "code",
      "execution_count": null,
      "metadata": {
        "id": "naRS4NulB1sw"
      },
      "outputs": [],
      "source": [
        "import tensorflow as tf\n",
        "from tensorflow import keras\n",
        "from keras import Sequential\n",
        "from keras.layers import Dense,Conv2D,MaxPooling2D,Flatten,Dropout,BatchNormalization"
      ]
    },
    {
      "cell_type": "code",
      "execution_count": null,
      "metadata": {
        "id": "nEaYePH7ICAO"
      },
      "outputs": [],
      "source": [
        "from google.colab import drive\n",
        "drive.mount('/content/drive')"
      ]
    },
    {
      "cell_type": "code",
      "execution_count": null,
      "metadata": {
        "id": "XATEqESUImuH"
      },
      "outputs": [],
      "source": [
        "path='/content/drive/MyDrive/LandClassification'"
      ]
    },
    {
      "cell_type": "code",
      "source": [
        "import os"
      ],
      "metadata": {
        "id": "tztIJ1FBWjS-"
      },
      "execution_count": null,
      "outputs": []
    },
    {
      "cell_type": "code",
      "execution_count": null,
      "metadata": {
        "id": "aZZrCNPiE_E_"
      },
      "outputs": [],
      "source": [
        "folders=os.listdir(path)"
      ]
    },
    {
      "cell_type": "code",
      "source": [
        "folders"
      ],
      "metadata": {
        "id": "T42HQmpbWuJd"
      },
      "execution_count": null,
      "outputs": []
    },
    {
      "cell_type": "code",
      "execution_count": null,
      "metadata": {
        "id": "DRiL16p5CdIt"
      },
      "outputs": [],
      "source": [
        "x=[]\n",
        "y=[]\n"
      ]
    },
    {
      "cell_type": "code",
      "source": [
        "for I in folders:\n",
        "  for J in os.listdir(path+'/'+I):\n",
        "    a=J.split('.')\n",
        "    if(a[1]=='jpg'):\n",
        "      p=cv2.imread(path+'/'+I+'/'+J)\n",
        "      r=cv2.resize(p,(256,256))\n",
        "      x.append(r)\n",
        "      y.append(I)\n"
      ],
      "metadata": {
        "id": "MQ_09pgxW29n"
      },
      "execution_count": null,
      "outputs": []
    },
    {
      "cell_type": "code",
      "source": [
        "# print(x)\n",
        "print(y)"
      ],
      "metadata": {
        "id": "OSMEiC7vuaAz"
      },
      "execution_count": null,
      "outputs": []
    },
    {
      "cell_type": "code",
      "source": [
        "for i in range(len(y)):\n",
        "  if(y[i]=='AnnualCrop'):\n",
        "    y[i]=0\n",
        "  elif(y[i]=='Forest'):\n",
        "    y[i]=1\n",
        "  elif(y[i]=='HerbaceousVegetation'):\n",
        "    y[i]=2\n",
        "  elif(y[i]=='Highway'):\n",
        "    y[i]=3\n",
        "  elif(y[i]=='Industrial'):\n",
        "    y[i]=4\n",
        "  elif(y[i]=='Pasture'):\n",
        "    y[i]=5\n",
        "  elif(y[i]=='PermanentCrop'):\n",
        "    y[i]=6\n",
        "  elif(y[i]=='Residential'):\n",
        "    y[i]=7\n",
        "  elif(y[i]=='River'):\n",
        "    y[i]=8\n",
        "  elif(y[i]=='SeaLake'):\n",
        "    y[i]=9"
      ],
      "metadata": {
        "id": "5_c3RsfgW55N"
      },
      "execution_count": null,
      "outputs": []
    },
    {
      "cell_type": "code",
      "source": [
        "# xarr.shape"
      ],
      "metadata": {
        "id": "NMQwwwakXg5b"
      },
      "execution_count": null,
      "outputs": []
    },
    {
      "cell_type": "code",
      "source": [
        "import numpy as np\n",
        "xarr=np.array(x)\n",
        "yarr=np.array(y)\n",
        "xarr=xarr/255.0"
      ],
      "metadata": {
        "id": "QXzZp9yCW8xE"
      },
      "execution_count": null,
      "outputs": []
    },
    {
      "cell_type": "code",
      "source": [
        "yarr.shape"
      ],
      "metadata": {
        "id": "0k9Dk7j7FznH"
      },
      "execution_count": null,
      "outputs": []
    },
    {
      "cell_type": "code",
      "source": [
        "xarr.shape"
      ],
      "metadata": {
        "id": "OO1TaMyrFml_"
      },
      "execution_count": null,
      "outputs": []
    },
    {
      "cell_type": "code",
      "execution_count": null,
      "metadata": {
        "id": "dCIJoD5wCg8N"
      },
      "outputs": [],
      "source": [
        "model = Sequential()\n",
        "# Input here is 4D array (batchsize, height, width, channels) - we have already created the train_generator with batch size 32\n",
        "# 32 Images of size each 150x150 with 3 color channels will be input into this layer\n",
        "model.add(Conv2D(128, kernel_size=7, activation='relu', input_shape=(150,150,3)))\n",
        "model.add(MaxPooling2D(pool_size=(4,4), strides=(2,2)))\n",
        "model.add(Conv2D(64, kernel_size=5, activation='relu'))\n",
        "model.add(MaxPooling2D(pool_size=(4,4), strides=(2,2)))\n",
        "model.add(Flatten())\n",
        "model.add(Dense(128,activation='relu'))\n",
        "model.add(Dense(6,activation='softmax'))\n",
        "model.compile(optimizer='adam', loss='categorical_crossentropy', metrics=['acc'])\n",
        "model.summary()"
      ]
    },
    {
      "cell_type": "code",
      "source": [
        "# model.add(Flatten())\n",
        "# model.add(Dense(10,activation='sigmoid'))"
      ],
      "metadata": {
        "id": "HBh-C-IfHcdH"
      },
      "execution_count": null,
      "outputs": []
    },
    {
      "cell_type": "code",
      "execution_count": null,
      "metadata": {
        "id": "xKGX1XpBCljX"
      },
      "outputs": [],
      "source": [
        "model.summary()"
      ]
    },
    {
      "cell_type": "code",
      "execution_count": null,
      "metadata": {
        "id": "Zt4Mf4fvCoV2"
      },
      "outputs": [],
      "source": [
        "model.compile(optimizer='adam',loss='binary_crossentropy',metrics=['accuracy'])"
      ]
    },
    {
      "cell_type": "code",
      "execution_count": null,
      "metadata": {
        "id": "mpb6-5FUCrBW"
      },
      "outputs": [],
      "source": [
        "history=model.fit(xarr,yarr,epochs=20)"
      ]
    },
    {
      "cell_type": "code",
      "source": [
        "plt.imshow(xarr[11])"
      ],
      "metadata": {
        "id": "b-SpSG_eJK_j"
      },
      "execution_count": null,
      "outputs": []
    },
    {
      "cell_type": "code",
      "source": [
        "yarr[11]"
      ],
      "metadata": {
        "id": "mrPSB9p5L141"
      },
      "execution_count": null,
      "outputs": []
    },
    {
      "cell_type": "code",
      "source": [
        "plt.imshow(xarr[1])"
      ],
      "metadata": {
        "id": "nwOpnvaAKNc2"
      },
      "execution_count": null,
      "outputs": []
    },
    {
      "cell_type": "code",
      "source": [
        "yarr[1]"
      ],
      "metadata": {
        "id": "3S20XKNgLALu"
      },
      "execution_count": null,
      "outputs": []
    },
    {
      "cell_type": "code",
      "source": [
        "test=cv2.resize(xarr[1],(224,224))\n",
        "x=[]\n",
        "x.append(test)\n",
        "r=np.array(x)"
      ],
      "metadata": {
        "id": "373D4dNlO_nq"
      },
      "execution_count": null,
      "outputs": []
    },
    {
      "cell_type": "code",
      "execution_count": null,
      "metadata": {
        "id": "5kQJtJlbC_mN"
      },
      "outputs": [],
      "source": [
        "model.predict(test)"
      ]
    },
    {
      "cell_type": "code",
      "execution_count": null,
      "metadata": {
        "id": "e8RChmEUDCLA"
      },
      "outputs": [],
      "source": [
        "yarr[1]"
      ]
    }
  ],
  "metadata": {
    "accelerator": "GPU",
    "colab": {
      "provenance": [],
      "private_outputs": true,
      "mount_file_id": "1yTcKEtMkwqZb7ZE-xodMOIEf8hO8qRPV",
      "authorship_tag": "ABX9TyOmI2JXtcfKGb9K/QXx2Ww6",
      "include_colab_link": true
    },
    "gpuClass": "standard",
    "kernelspec": {
      "display_name": "Python 3",
      "name": "python3"
    },
    "language_info": {
      "name": "python"
    }
  },
  "nbformat": 4,
  "nbformat_minor": 0
}